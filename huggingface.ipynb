{
 "cells": [
  {
   "cell_type": "code",
   "execution_count": 1,
   "id": "696c10e3",
   "metadata": {},
   "outputs": [
    {
     "name": "stderr",
     "output_type": "stream",
     "text": [
      "/Users/loannguyen/Desktop/llama/.env/lib/python3.8/site-packages/tqdm/auto.py:21: TqdmWarning: IProgress not found. Please update jupyter and ipywidgets. See https://ipywidgets.readthedocs.io/en/stable/user_install.html\n",
      "  from .autonotebook import tqdm as notebook_tqdm\n",
      "/Users/loannguyen/Desktop/llama/.env/lib/python3.8/site-packages/urllib3/__init__.py:34: NotOpenSSLWarning: urllib3 v2.0 only supports OpenSSL 1.1.1+, currently the 'ssl' module is compiled with 'LibreSSL 2.8.3'. See: https://github.com/urllib3/urllib3/issues/3020\n",
      "  warnings.warn(\n"
     ]
    }
   ],
   "source": [
    "from transformers import pipeline"
   ]
  },
  {
   "cell_type": "code",
   "execution_count": 2,
   "id": "fea06a3a",
   "metadata": {},
   "outputs": [
    {
     "name": "stderr",
     "output_type": "stream",
     "text": [
      "No model was supplied, defaulted to distilbert-base-cased-distilled-squad and revision 626af31 (https://huggingface.co/distilbert-base-cased-distilled-squad).\n",
      "Using a pipeline without specifying a model name and revision in production is not recommended.\n"
     ]
    }
   ],
   "source": [
    "qaModel = pipeline(\"question-answering\")"
   ]
  },
  {
   "cell_type": "code",
   "execution_count": null,
   "id": "344f74e4",
   "metadata": {},
   "outputs": [],
   "source": [
    "passage = \"THE TIME TRAVELLER (for so it will be convenient to speak of him) \\\n",
    "was expounding a recondite matter to us. \\\n",
    "His grey eyes shone and twinkled, and his usually pale face was flushed \\\n",
    "and animated. The fire burned brightly, and the soft radiance of the \\\n",
    "incandescent lights in the lilies of silver caught the bubbles \\\n",
    "that flashed and passed in our glasses. \\\n",
    "Our chairs, being his patents, embraced and caressed us rather than submitted \\\n",
    "to be sat upon, and there was that luxurious after-dinner atmosphere \\\n",
    "when thought runs gracefully free of the trammels of precision. \\\n",
    "And he put it to us in this way—marking the points with a lean forefinger—as \\\n",
    "we sat and lazily admired his earnestness over this new paradox \\\n",
    "(as we thought it) and his fecundity.\"\n",
    "\n",
    "query1 = \"What was colour of time traveller eyes?\"\n",
    "query3 = \"Where were we sitting?\"\n",
    "\n",
    "print(qaModel(query1, passage))\n",
    "print(qaModel(query3, passage))"
   ]
  },
  {
   "cell_type": "code",
   "execution_count": null,
   "id": "eae4ec06",
   "metadata": {},
   "outputs": [],
   "source": [
    "from transformers import AutoTokenizer, AutoModelForQuestionAnswering"
   ]
  },
  {
   "cell_type": "code",
   "execution_count": 3,
   "id": "f3526673",
   "metadata": {},
   "outputs": [],
   "source": [
    "model_checkpoint = \"ancs21/xlm-roberta-large-vi-qa\"\n",
    "\n",
    "nlp = pipeline('question-answering', model=model_checkpoint, tokenizer=model_checkpoint)"
   ]
  },
  {
   "cell_type": "code",
   "execution_count": 6,
   "id": "6992c184",
   "metadata": {},
   "outputs": [
    {
     "name": "stdout",
     "output_type": "stream",
     "text": [
      "pipeline: {'score': 0.32622823119163513, 'start': 539, 'end': 568, 'answer': ' trì hoãn kiểm soát tài chính'}\n"
     ]
    }
   ],
   "source": [
    "QA_input = {\n",
    "  'question': \"ví dụ về gen Z lười tiết kiệm?\",\n",
    "  'context': \"\"\"\n",
    "    Theo Forbes, Gen Z và Millennials thường xuyên bị thế hệ trước coi là lười biếng và thờ ơ, đặc biệt là trong \n",
    "    chuyện kiểm soát tài chính.\n",
    "    \"Con tôi vẫn đang tiêu xài quá hoang phí\", \"Thằng bé vừa đốt sạch một tháng lương vào những chuyến du lịch\", \n",
    "    \"Ra trường vài năm nhưng tiền tiết kiệm của nó gần như bằng không\"... là một trong những lời phê bình người trẻ \"nghe chán tai\" từ các bậc cha mẹ.\n",
    "    Thực tế, theo nghiên cứu mới đây được đăng tải trên Bussiness Insider, nhiều Gen Z và Millennials đang lười \n",
    "    tiết kiệm, trì hoãn kiểm soát tài chính vì thấy chúng \"tốn thời gian và phức tạp\". Ngoài ra, có 1/2 người tham \n",
    "    gia khảo sát nói rằng họ không có một kế hoạch tài chính cho tương lai. 1/3 người lại nhận định họ không lập \n",
    "    kế hoạch tài chính vì thấy bản thân không dư dả tiền bạc để cần có một tài khoản tiết kiệm hay ghi chép cẩn \n",
    "    thận nguồn thu chi mỗi ngày\n",
    "  \"\"\"\n",
    "}\n",
    "res = nlp(QA_input)\n",
    "print('pipeline: {}'.format(res))\n"
   ]
  },
  {
   "cell_type": "code",
   "execution_count": 2,
   "id": "7f9f2693",
   "metadata": {},
   "outputs": [
    {
     "name": "stderr",
     "output_type": "stream",
     "text": [
      "/Users/loannguyen/Desktop/llama/.env/lib/python3.8/site-packages/PySimpleGUI/PySimpleGUI.py:25082: UserWarning: You are running a VERY old version of tkinter 8.5.9. You cannot use PNG formatted images for example.  Please upgrade to 8.6.x\n",
      "  warnings.warn('You are running a VERY old version of tkinter {}. You cannot use PNG formatted images for example.  Please upgrade to 8.6.x'.format(tclversion_detailed), UserWarning)\n"
     ]
    }
   ],
   "source": [
    "import PySimpleGUI as sg\n"
   ]
  },
  {
   "cell_type": "code",
   "execution_count": 3,
   "id": "f23824c6",
   "metadata": {},
   "outputs": [],
   "source": [
    "layout = [[sg.Text('Welcome to the chat app!')],\n",
    "          [sg.Multiline(size=(50, 10), key='-OUTPUT-')],\n",
    "          [sg.InputText(key='-INPUT-')],\n",
    "          [sg.Button('Send'), sg.Button('Exit')]]\n",
    "window = sg.Window('Chat App', layout)\n"
   ]
  },
  {
   "cell_type": "code",
   "execution_count": null,
   "id": "d1ddfb5a",
   "metadata": {},
   "outputs": [],
   "source": [
    "while True:\n",
    "    event, values = window.read()\n",
    "    if event == sg.WIN_CLOSED or event == 'Exit':\n",
    "        break\n",
    "    window['-OUTPUT-'].print(values['-INPUT-'])\n",
    "    window['-INPUT-'].update('')\n"
   ]
  },
  {
   "cell_type": "code",
   "execution_count": null,
   "id": "79d867dd",
   "metadata": {},
   "outputs": [],
   "source": []
  }
 ],
 "metadata": {
  "kernelspec": {
   "display_name": "Python 3 (ipykernel)",
   "language": "python",
   "name": "python3"
  },
  "language_info": {
   "codemirror_mode": {
    "name": "ipython",
    "version": 3
   },
   "file_extension": ".py",
   "mimetype": "text/x-python",
   "name": "python",
   "nbconvert_exporter": "python",
   "pygments_lexer": "ipython3",
   "version": "3.8.2"
  }
 },
 "nbformat": 4,
 "nbformat_minor": 5
}
